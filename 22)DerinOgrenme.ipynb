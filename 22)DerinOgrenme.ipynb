{
 "cells": [
  {
   "cell_type": "code",
   "execution_count": 1,
   "id": "de7c4b47",
   "metadata": {},
   "outputs": [],
   "source": [
    "import tensorflow as tf\n",
    "import pandas as pd\n",
    "import numpy as np \n",
    "from sklearn import preprocessing\n",
    "from sklearn.preprocessing import OneHotEncoder\n",
    "from sklearn.compose import ColumnTransformer\n",
    "from sklearn.model_selection import train_test_split\n",
    "from sklearn.preprocessing import StandardScaler\n",
    "import keras\n",
    "from keras.models import Sequential\n",
    "from keras.layers import Dense\n",
    "from sklearn.metrics import confusion_matrix"
   ]
  },
  {
   "cell_type": "code",
   "execution_count": 2,
   "id": "c3358e2d",
   "metadata": {},
   "outputs": [
    {
     "data": {
      "text/html": [
       "<div>\n",
       "<style scoped>\n",
       "    .dataframe tbody tr th:only-of-type {\n",
       "        vertical-align: middle;\n",
       "    }\n",
       "\n",
       "    .dataframe tbody tr th {\n",
       "        vertical-align: top;\n",
       "    }\n",
       "\n",
       "    .dataframe thead th {\n",
       "        text-align: right;\n",
       "    }\n",
       "</style>\n",
       "<table border=\"1\" class=\"dataframe\">\n",
       "  <thead>\n",
       "    <tr style=\"text-align: right;\">\n",
       "      <th></th>\n",
       "      <th>RowNumber</th>\n",
       "      <th>CustomerId</th>\n",
       "      <th>Surname</th>\n",
       "      <th>CreditScore</th>\n",
       "      <th>Geography</th>\n",
       "      <th>Gender</th>\n",
       "      <th>Age</th>\n",
       "      <th>Tenure</th>\n",
       "      <th>Balance</th>\n",
       "      <th>NumOfProducts</th>\n",
       "      <th>HasCrCard</th>\n",
       "      <th>IsActiveMember</th>\n",
       "      <th>EstimatedSalary</th>\n",
       "      <th>Exited</th>\n",
       "    </tr>\n",
       "  </thead>\n",
       "  <tbody>\n",
       "    <tr>\n",
       "      <th>0</th>\n",
       "      <td>1</td>\n",
       "      <td>15634602</td>\n",
       "      <td>Hargrave</td>\n",
       "      <td>619</td>\n",
       "      <td>France</td>\n",
       "      <td>Female</td>\n",
       "      <td>42</td>\n",
       "      <td>2</td>\n",
       "      <td>0.00</td>\n",
       "      <td>1</td>\n",
       "      <td>1</td>\n",
       "      <td>1</td>\n",
       "      <td>101348.88</td>\n",
       "      <td>1</td>\n",
       "    </tr>\n",
       "    <tr>\n",
       "      <th>1</th>\n",
       "      <td>2</td>\n",
       "      <td>15647311</td>\n",
       "      <td>Hill</td>\n",
       "      <td>608</td>\n",
       "      <td>Spain</td>\n",
       "      <td>Female</td>\n",
       "      <td>41</td>\n",
       "      <td>1</td>\n",
       "      <td>83807.86</td>\n",
       "      <td>1</td>\n",
       "      <td>0</td>\n",
       "      <td>1</td>\n",
       "      <td>112542.58</td>\n",
       "      <td>0</td>\n",
       "    </tr>\n",
       "    <tr>\n",
       "      <th>2</th>\n",
       "      <td>3</td>\n",
       "      <td>15619304</td>\n",
       "      <td>Onio</td>\n",
       "      <td>502</td>\n",
       "      <td>France</td>\n",
       "      <td>Female</td>\n",
       "      <td>42</td>\n",
       "      <td>8</td>\n",
       "      <td>159660.80</td>\n",
       "      <td>3</td>\n",
       "      <td>1</td>\n",
       "      <td>0</td>\n",
       "      <td>113931.57</td>\n",
       "      <td>1</td>\n",
       "    </tr>\n",
       "    <tr>\n",
       "      <th>3</th>\n",
       "      <td>4</td>\n",
       "      <td>15701354</td>\n",
       "      <td>Boni</td>\n",
       "      <td>699</td>\n",
       "      <td>France</td>\n",
       "      <td>Female</td>\n",
       "      <td>39</td>\n",
       "      <td>1</td>\n",
       "      <td>0.00</td>\n",
       "      <td>2</td>\n",
       "      <td>0</td>\n",
       "      <td>0</td>\n",
       "      <td>93826.63</td>\n",
       "      <td>0</td>\n",
       "    </tr>\n",
       "    <tr>\n",
       "      <th>4</th>\n",
       "      <td>5</td>\n",
       "      <td>15737888</td>\n",
       "      <td>Mitchell</td>\n",
       "      <td>850</td>\n",
       "      <td>Spain</td>\n",
       "      <td>Female</td>\n",
       "      <td>43</td>\n",
       "      <td>2</td>\n",
       "      <td>125510.82</td>\n",
       "      <td>1</td>\n",
       "      <td>1</td>\n",
       "      <td>1</td>\n",
       "      <td>79084.10</td>\n",
       "      <td>0</td>\n",
       "    </tr>\n",
       "    <tr>\n",
       "      <th>...</th>\n",
       "      <td>...</td>\n",
       "      <td>...</td>\n",
       "      <td>...</td>\n",
       "      <td>...</td>\n",
       "      <td>...</td>\n",
       "      <td>...</td>\n",
       "      <td>...</td>\n",
       "      <td>...</td>\n",
       "      <td>...</td>\n",
       "      <td>...</td>\n",
       "      <td>...</td>\n",
       "      <td>...</td>\n",
       "      <td>...</td>\n",
       "      <td>...</td>\n",
       "    </tr>\n",
       "    <tr>\n",
       "      <th>9995</th>\n",
       "      <td>9996</td>\n",
       "      <td>15606229</td>\n",
       "      <td>Obijiaku</td>\n",
       "      <td>771</td>\n",
       "      <td>France</td>\n",
       "      <td>Male</td>\n",
       "      <td>39</td>\n",
       "      <td>5</td>\n",
       "      <td>0.00</td>\n",
       "      <td>2</td>\n",
       "      <td>1</td>\n",
       "      <td>0</td>\n",
       "      <td>96270.64</td>\n",
       "      <td>0</td>\n",
       "    </tr>\n",
       "    <tr>\n",
       "      <th>9996</th>\n",
       "      <td>9997</td>\n",
       "      <td>15569892</td>\n",
       "      <td>Johnstone</td>\n",
       "      <td>516</td>\n",
       "      <td>France</td>\n",
       "      <td>Male</td>\n",
       "      <td>35</td>\n",
       "      <td>10</td>\n",
       "      <td>57369.61</td>\n",
       "      <td>1</td>\n",
       "      <td>1</td>\n",
       "      <td>1</td>\n",
       "      <td>101699.77</td>\n",
       "      <td>0</td>\n",
       "    </tr>\n",
       "    <tr>\n",
       "      <th>9997</th>\n",
       "      <td>9998</td>\n",
       "      <td>15584532</td>\n",
       "      <td>Liu</td>\n",
       "      <td>709</td>\n",
       "      <td>France</td>\n",
       "      <td>Female</td>\n",
       "      <td>36</td>\n",
       "      <td>7</td>\n",
       "      <td>0.00</td>\n",
       "      <td>1</td>\n",
       "      <td>0</td>\n",
       "      <td>1</td>\n",
       "      <td>42085.58</td>\n",
       "      <td>1</td>\n",
       "    </tr>\n",
       "    <tr>\n",
       "      <th>9998</th>\n",
       "      <td>9999</td>\n",
       "      <td>15682355</td>\n",
       "      <td>Sabbatini</td>\n",
       "      <td>772</td>\n",
       "      <td>Germany</td>\n",
       "      <td>Male</td>\n",
       "      <td>42</td>\n",
       "      <td>3</td>\n",
       "      <td>75075.31</td>\n",
       "      <td>2</td>\n",
       "      <td>1</td>\n",
       "      <td>0</td>\n",
       "      <td>92888.52</td>\n",
       "      <td>1</td>\n",
       "    </tr>\n",
       "    <tr>\n",
       "      <th>9999</th>\n",
       "      <td>10000</td>\n",
       "      <td>15628319</td>\n",
       "      <td>Walker</td>\n",
       "      <td>792</td>\n",
       "      <td>France</td>\n",
       "      <td>Female</td>\n",
       "      <td>28</td>\n",
       "      <td>4</td>\n",
       "      <td>130142.79</td>\n",
       "      <td>1</td>\n",
       "      <td>1</td>\n",
       "      <td>0</td>\n",
       "      <td>38190.78</td>\n",
       "      <td>0</td>\n",
       "    </tr>\n",
       "  </tbody>\n",
       "</table>\n",
       "<p>10000 rows × 14 columns</p>\n",
       "</div>"
      ],
      "text/plain": [
       "      RowNumber  CustomerId    Surname  CreditScore Geography  Gender  Age  \\\n",
       "0             1    15634602   Hargrave          619    France  Female   42   \n",
       "1             2    15647311       Hill          608     Spain  Female   41   \n",
       "2             3    15619304       Onio          502    France  Female   42   \n",
       "3             4    15701354       Boni          699    France  Female   39   \n",
       "4             5    15737888   Mitchell          850     Spain  Female   43   \n",
       "...         ...         ...        ...          ...       ...     ...  ...   \n",
       "9995       9996    15606229   Obijiaku          771    France    Male   39   \n",
       "9996       9997    15569892  Johnstone          516    France    Male   35   \n",
       "9997       9998    15584532        Liu          709    France  Female   36   \n",
       "9998       9999    15682355  Sabbatini          772   Germany    Male   42   \n",
       "9999      10000    15628319     Walker          792    France  Female   28   \n",
       "\n",
       "      Tenure    Balance  NumOfProducts  HasCrCard  IsActiveMember  \\\n",
       "0          2       0.00              1          1               1   \n",
       "1          1   83807.86              1          0               1   \n",
       "2          8  159660.80              3          1               0   \n",
       "3          1       0.00              2          0               0   \n",
       "4          2  125510.82              1          1               1   \n",
       "...      ...        ...            ...        ...             ...   \n",
       "9995       5       0.00              2          1               0   \n",
       "9996      10   57369.61              1          1               1   \n",
       "9997       7       0.00              1          0               1   \n",
       "9998       3   75075.31              2          1               0   \n",
       "9999       4  130142.79              1          1               0   \n",
       "\n",
       "      EstimatedSalary  Exited  \n",
       "0           101348.88       1  \n",
       "1           112542.58       0  \n",
       "2           113931.57       1  \n",
       "3            93826.63       0  \n",
       "4            79084.10       0  \n",
       "...               ...     ...  \n",
       "9995         96270.64       0  \n",
       "9996        101699.77       0  \n",
       "9997         42085.58       1  \n",
       "9998         92888.52       1  \n",
       "9999         38190.78       0  \n",
       "\n",
       "[10000 rows x 14 columns]"
      ]
     },
     "execution_count": 2,
     "metadata": {},
     "output_type": "execute_result"
    }
   ],
   "source": [
    "veriler = pd.read_csv(\"Churn_Modelling.csv\")\n",
    "veriler"
   ]
  },
  {
   "cell_type": "code",
   "execution_count": 3,
   "id": "ebb5741d",
   "metadata": {},
   "outputs": [],
   "source": [
    "x = veriler.iloc[:,3:13].values\n",
    "y = veriler.iloc[:,13].values"
   ]
  },
  {
   "cell_type": "code",
   "execution_count": 4,
   "id": "08d38158",
   "metadata": {},
   "outputs": [
    {
     "data": {
      "text/plain": [
       "array([[619, 'France', 'Female', ..., 1, 1, 101348.88],\n",
       "       [608, 'Spain', 'Female', ..., 0, 1, 112542.58],\n",
       "       [502, 'France', 'Female', ..., 1, 0, 113931.57],\n",
       "       ...,\n",
       "       [709, 'France', 'Female', ..., 0, 1, 42085.58],\n",
       "       [772, 'Germany', 'Male', ..., 1, 0, 92888.52],\n",
       "       [792, 'France', 'Female', ..., 1, 0, 38190.78]], dtype=object)"
      ]
     },
     "execution_count": 4,
     "metadata": {},
     "output_type": "execute_result"
    }
   ],
   "source": [
    "x"
   ]
  },
  {
   "cell_type": "code",
   "execution_count": 5,
   "id": "a3779d0c",
   "metadata": {},
   "outputs": [
    {
     "data": {
      "text/plain": [
       "array([1, 0, 1, ..., 1, 1, 0], dtype=int64)"
      ]
     },
     "execution_count": 5,
     "metadata": {},
     "output_type": "execute_result"
    }
   ],
   "source": [
    "y"
   ]
  },
  {
   "cell_type": "code",
   "execution_count": 26,
   "id": "d7aea91c",
   "metadata": {},
   "outputs": [
    {
     "data": {
      "text/plain": [
       "10000"
      ]
     },
     "execution_count": 26,
     "metadata": {},
     "output_type": "execute_result"
    }
   ],
   "source": [
    "#Kategorik verileri numeric hale getirme işlemi\n",
    "le1 = preprocessing.LabelEncoder()\n",
    "x[:,1] = le1.fit_transform(x[:,1])\n",
    "\n",
    "le2 = preprocessing.LabelEncoder()\n",
    "x[:,2] = le2.fit_transform(x[:,2])\n",
    "x[:,1].size"
   ]
  },
  {
   "cell_type": "code",
   "execution_count": 27,
   "id": "c5ae0d61",
   "metadata": {},
   "outputs": [
    {
     "data": {
      "text/plain": [
       "10000"
      ]
     },
     "execution_count": 27,
     "metadata": {},
     "output_type": "execute_result"
    }
   ],
   "source": [
    "#Ülke değerleri için bir sıralama işlemi yapılmaması için farklı kolonlara koyma işlemi yapılcak\n",
    "ohe = ColumnTransformer([(\"ohe\" , OneHotEncoder(dtype=float),[1])],remainder=\"passthrough\")\n",
    "x = ohe.fit_transform(x)\n",
    "x = x[:,1:]\n",
    "x[:,1].size"
   ]
  },
  {
   "cell_type": "code",
   "execution_count": 8,
   "id": "be137602",
   "metadata": {},
   "outputs": [],
   "source": [
    "#Eğitim ve test verilerine ayırma işlemi ...\n",
    "x_train , x_test , y_train , y_test = train_test_split(x,y,test_size=0.33,random_state=0)"
   ]
  },
  {
   "cell_type": "code",
   "execution_count": 28,
   "id": "401a0373",
   "metadata": {},
   "outputs": [
    {
     "data": {
      "text/plain": [
       "6700"
      ]
     },
     "execution_count": 28,
     "metadata": {},
     "output_type": "execute_result"
    }
   ],
   "source": [
    "#Verileri standardize etme işlemi . \n",
    "sc = StandardScaler()\n",
    "X_train = sc.fit_transform(x_train)\n",
    "X_test = sc.fit_transform(x_test)\n",
    "X_train[:,1].size"
   ]
  },
  {
   "cell_type": "code",
   "execution_count": 41,
   "id": "7a6e4535",
   "metadata": {},
   "outputs": [],
   "source": [
    "#Yapay sinir ağı ...\n",
    "##************************HATA VAR ***************************************##\n",
    "# siniflandirma = Sequential()\n",
    "# siniflandirma(Dense(units=\"6\",kernel_initializer=\"uniform\", activation=\"relu\",input_dim = 11)) #Giriş katmanı 11 ara katman ise 6 nörondan oluşuyor.\n",
    "# siniflandirma(Dense(units=\"6\",kernel_initializer=\"uniform\", activation=\"relu\")) #Bir başka ara katman\n",
    "# siniflandirma(Dense(units=\"1\",kernel_initializer=\"uniform\", activation=\"sigmoid\"))#Çıkış katmanı\n",
    "# siniflandirma.compile(optimizer=\"adam\",loss=\"binary_crossentropy\",metrics=[\"accuracy\"])\n",
    "# siniflandirma.fit(x=X_train,y=y_train,epochs=50,verbose=1)"
   ]
  },
  {
   "cell_type": "code",
   "execution_count": 48,
   "id": "56d10a9f",
   "metadata": {},
   "outputs": [
    {
     "name": "stdout",
     "output_type": "stream",
     "text": [
      "Epoch 1/70\n",
      "6700/6700 [==============================] - 7s 931us/step - loss: 0.4050 - accuracy: 0.8272\n",
      "Epoch 2/70\n",
      "6700/6700 [==============================] - 6s 945us/step - loss: 0.3548 - accuracy: 0.8536\n",
      "Epoch 3/70\n",
      "6700/6700 [==============================] - 6s 942us/step - loss: 0.3497 - accuracy: 0.8554\n",
      "Epoch 4/70\n",
      "6700/6700 [==============================] - 6s 950us/step - loss: 0.3429 - accuracy: 0.8593\n",
      "Epoch 5/70\n",
      "6700/6700 [==============================] - 6s 957us/step - loss: 0.3412 - accuracy: 0.8628\n",
      "Epoch 6/70\n",
      "6700/6700 [==============================] - 6s 921us/step - loss: 0.3378 - accuracy: 0.8622\n",
      "Epoch 7/70\n",
      "6700/6700 [==============================] - 6s 920us/step - loss: 0.3357 - accuracy: 0.8601\n",
      "Epoch 8/70\n",
      "6700/6700 [==============================] - 6s 943us/step - loss: 0.3336 - accuracy: 0.8630\n",
      "Epoch 9/70\n",
      "6700/6700 [==============================] - 6s 953us/step - loss: 0.3326 - accuracy: 0.8642\n",
      "Epoch 10/70\n",
      "6700/6700 [==============================] - 6s 952us/step - loss: 0.3298 - accuracy: 0.8664\n",
      "Epoch 11/70\n",
      "6700/6700 [==============================] - 6s 941us/step - loss: 0.3288 - accuracy: 0.8669\n",
      "Epoch 12/70\n",
      "6700/6700 [==============================] - 6s 942us/step - loss: 0.3256 - accuracy: 0.8631\n",
      "Epoch 13/70\n",
      "6700/6700 [==============================] - 6s 953us/step - loss: 0.3222 - accuracy: 0.8672\n",
      "Epoch 14/70\n",
      "6700/6700 [==============================] - 6s 953us/step - loss: 0.3196 - accuracy: 0.8704\n",
      "Epoch 15/70\n",
      "6700/6700 [==============================] - 6s 940us/step - loss: 0.3211 - accuracy: 0.8703\n",
      "Epoch 16/70\n",
      "6700/6700 [==============================] - 6s 926us/step - loss: 0.3152 - accuracy: 0.8694\n",
      "Epoch 17/70\n",
      "6700/6700 [==============================] - 6s 946us/step - loss: 0.3143 - accuracy: 0.8694\n",
      "Epoch 18/70\n",
      "6700/6700 [==============================] - 6s 934us/step - loss: 0.3137 - accuracy: 0.8693\n",
      "Epoch 19/70\n",
      "6700/6700 [==============================] - 6s 928us/step - loss: 0.3108 - accuracy: 0.8727\n",
      "Epoch 20/70\n",
      "6700/6700 [==============================] - 6s 940us/step - loss: 0.3099 - accuracy: 0.8731\n",
      "Epoch 21/70\n",
      "6700/6700 [==============================] - 6s 953us/step - loss: 0.3090 - accuracy: 0.8740\n",
      "Epoch 22/70\n",
      "6700/6700 [==============================] - 6s 942us/step - loss: 0.3063 - accuracy: 0.8722\n",
      "Epoch 23/70\n",
      "6700/6700 [==============================] - 7s 1ms/step - loss: 0.3049 - accuracy: 0.8754\n",
      "Epoch 24/70\n",
      "6700/6700 [==============================] - 6s 951us/step - loss: 0.3027 - accuracy: 0.8757\n",
      "Epoch 25/70\n",
      "6700/6700 [==============================] - 6s 933us/step - loss: 0.3026 - accuracy: 0.8749\n",
      "Epoch 26/70\n",
      "6700/6700 [==============================] - 6s 939us/step - loss: 0.3002 - accuracy: 0.8751\n",
      "Epoch 27/70\n",
      "6700/6700 [==============================] - 6s 926us/step - loss: 0.2986 - accuracy: 0.8773\n",
      "Epoch 28/70\n",
      "6700/6700 [==============================] - 6s 936us/step - loss: 0.2980 - accuracy: 0.8775\n",
      "Epoch 29/70\n",
      "6700/6700 [==============================] - 6s 928us/step - loss: 0.2979 - accuracy: 0.8764\n",
      "Epoch 30/70\n",
      "6700/6700 [==============================] - 6s 927us/step - loss: 0.2945 - accuracy: 0.8799\n",
      "Epoch 31/70\n",
      "6700/6700 [==============================] - 6s 958us/step - loss: 0.2918 - accuracy: 0.8806\n",
      "Epoch 32/70\n",
      "6700/6700 [==============================] - 6s 936us/step - loss: 0.2936 - accuracy: 0.8766\n",
      "Epoch 33/70\n",
      "6700/6700 [==============================] - 6s 953us/step - loss: 0.2866 - accuracy: 0.8816\n",
      "Epoch 34/70\n",
      "6700/6700 [==============================] - 6s 939us/step - loss: 0.2873 - accuracy: 0.8819\n",
      "Epoch 35/70\n",
      "6700/6700 [==============================] - 6s 933us/step - loss: 0.2892 - accuracy: 0.8793\n",
      "Epoch 36/70\n",
      "6700/6700 [==============================] - 6s 936us/step - loss: 0.2880 - accuracy: 0.8821\n",
      "Epoch 37/70\n",
      "6700/6700 [==============================] - 6s 920us/step - loss: 0.2848 - accuracy: 0.8833\n",
      "Epoch 38/70\n",
      "6700/6700 [==============================] - 6s 938us/step - loss: 0.2847 - accuracy: 0.8848\n",
      "Epoch 39/70\n",
      "6700/6700 [==============================] - 6s 932us/step - loss: 0.2845 - accuracy: 0.8818\n",
      "Epoch 40/70\n",
      "6700/6700 [==============================] - 6s 935us/step - loss: 0.2814 - accuracy: 0.8840\n",
      "Epoch 41/70\n",
      "6700/6700 [==============================] - 6s 930us/step - loss: 0.2824 - accuracy: 0.8875\n",
      "Epoch 42/70\n",
      "6700/6700 [==============================] - 6s 933us/step - loss: 0.2793 - accuracy: 0.8864\n",
      "Epoch 43/70\n",
      "6700/6700 [==============================] - 6s 950us/step - loss: 0.2791 - accuracy: 0.8840\n",
      "Epoch 44/70\n",
      "6700/6700 [==============================] - 6s 950us/step - loss: 0.2776 - accuracy: 0.8867\n",
      "Epoch 45/70\n",
      "6700/6700 [==============================] - 6s 918us/step - loss: 0.2761 - accuracy: 0.8894\n",
      "Epoch 46/70\n",
      "6700/6700 [==============================] - 6s 924us/step - loss: 0.2769 - accuracy: 0.8863\n",
      "Epoch 47/70\n",
      "6700/6700 [==============================] - 6s 916us/step - loss: 0.2730 - accuracy: 0.8876\n",
      "Epoch 48/70\n",
      "6700/6700 [==============================] - 6s 926us/step - loss: 0.2714 - accuracy: 0.8867\n",
      "Epoch 49/70\n",
      "6700/6700 [==============================] - 6s 941us/step - loss: 0.2716 - accuracy: 0.8875\n",
      "Epoch 50/70\n",
      "6700/6700 [==============================] - 6s 945us/step - loss: 0.2763 - accuracy: 0.8873\n",
      "Epoch 51/70\n",
      "6700/6700 [==============================] - 6s 935us/step - loss: 0.2714 - accuracy: 0.8890\n",
      "Epoch 52/70\n",
      "6700/6700 [==============================] - 6s 950us/step - loss: 0.2732 - accuracy: 0.8863\n",
      "Epoch 53/70\n",
      "6700/6700 [==============================] - 6s 948us/step - loss: 0.2706 - accuracy: 0.8900\n",
      "Epoch 54/70\n",
      "6700/6700 [==============================] - 6s 934us/step - loss: 0.2712 - accuracy: 0.8890\n",
      "Epoch 55/70\n",
      "6700/6700 [==============================] - 6s 940us/step - loss: 0.2687 - accuracy: 0.8881\n",
      "Epoch 56/70\n",
      "6700/6700 [==============================] - 6s 918us/step - loss: 0.2680 - accuracy: 0.8897\n",
      "Epoch 57/70\n",
      "6700/6700 [==============================] - 6s 965us/step - loss: 0.2689 - accuracy: 0.8909\n",
      "Epoch 58/70\n",
      "6700/6700 [==============================] - 6s 927us/step - loss: 0.2670 - accuracy: 0.8924\n",
      "Epoch 59/70\n",
      "6700/6700 [==============================] - 6s 919us/step - loss: 0.2646 - accuracy: 0.8945\n",
      "Epoch 60/70\n",
      "6700/6700 [==============================] - 6s 930us/step - loss: 0.2632 - accuracy: 0.8928\n",
      "Epoch 61/70\n",
      "6700/6700 [==============================] - 6s 930us/step - loss: 0.2620 - accuracy: 0.8927\n",
      "Epoch 62/70\n",
      "6700/6700 [==============================] - 6s 950us/step - loss: 0.2647 - accuracy: 0.8903\n",
      "Epoch 63/70\n",
      "6700/6700 [==============================] - 6s 925us/step - loss: 0.2602 - accuracy: 0.8945\n",
      "Epoch 64/70\n",
      "6700/6700 [==============================] - 6s 917us/step - loss: 0.2629 - accuracy: 0.8913\n",
      "Epoch 65/70\n",
      "6700/6700 [==============================] - 6s 964us/step - loss: 0.2618 - accuracy: 0.8939\n",
      "Epoch 66/70\n",
      "6700/6700 [==============================] - 6s 930us/step - loss: 0.2622 - accuracy: 0.8901\n",
      "Epoch 67/70\n",
      "6700/6700 [==============================] - 6s 922us/step - loss: 0.2608 - accuracy: 0.8943\n",
      "Epoch 68/70\n",
      "6700/6700 [==============================] - 6s 931us/step - loss: 0.2571 - accuracy: 0.8961\n",
      "Epoch 69/70\n",
      "6700/6700 [==============================] - 6s 940us/step - loss: 0.2565 - accuracy: 0.8976\n",
      "Epoch 70/70\n",
      "6700/6700 [==============================] - 6s 930us/step - loss: 0.2587 - accuracy: 0.8949\n"
     ]
    },
    {
     "data": {
      "text/plain": [
       "<keras.src.callbacks.History at 0x18af112dd90>"
      ]
     },
     "execution_count": 48,
     "metadata": {},
     "output_type": "execute_result"
    }
   ],
   "source": [
    "model = Sequential()\n",
    "model.add(Dense(units=\"30\",activation=\"relu\"))\n",
    "model.add(Dense(units=\"15\",activation=\"relu\"))\n",
    "model.add(Dense(units=\"15\",activation=\"relu\"))\n",
    "model.add(Dense(units=\"1\",activation=\"sigmoid\"))\n",
    "model.compile(loss=\"binary_crossentropy\",optimizer = \"adam\",metrics=[\"accuracy\"])\n",
    "model.fit(x=X_train,y=y_train,epochs=70,verbose= 1,batch_size=1)#Burada verinin bölünmesinin önüne geçmek için batch_size=1 verildi"
   ]
  },
  {
   "cell_type": "code",
   "execution_count": 49,
   "id": "d3338204",
   "metadata": {},
   "outputs": [
    {
     "name": "stdout",
     "output_type": "stream",
     "text": [
      "104/104 [==============================] - 0s 736us/step\n"
     ]
    },
    {
     "data": {
      "text/plain": [
       "array([[2441,  176],\n",
       "       [ 345,  338]], dtype=int64)"
      ]
     },
     "execution_count": 49,
     "metadata": {},
     "output_type": "execute_result"
    }
   ],
   "source": [
    "y_pred = model.predict(X_test)\n",
    "y_pred = (y_pred > 0.5 ) + 0\n",
    "\n",
    "cm = confusion_matrix(y_test,y_pred)\n",
    "# y_test\n",
    "cm"
   ]
  },
  {
   "cell_type": "code",
   "execution_count": 39,
   "id": "54bd52ec",
   "metadata": {},
   "outputs": [
    {
     "data": {
      "text/plain": [
       "array([[0],\n",
       "       [0],\n",
       "       [0],\n",
       "       ...,\n",
       "       [0],\n",
       "       [1],\n",
       "       [0]])"
      ]
     },
     "execution_count": 39,
     "metadata": {},
     "output_type": "execute_result"
    }
   ],
   "source": [
    "y_pred"
   ]
  },
  {
   "cell_type": "code",
   "execution_count": 12,
   "id": "27ce428d",
   "metadata": {},
   "outputs": [
    {
     "data": {
      "text/plain": [
       "array([[1, 0, 0, ..., 1, 1, 1],\n",
       "       [0, 0, 0, ..., 1, 0, 1],\n",
       "       [0, 1, 1, ..., 1, 1, 0],\n",
       "       ...,\n",
       "       [0, 1, 0, ..., 0, 0, 0],\n",
       "       [1, 0, 0, ..., 0, 0, 0],\n",
       "       [0, 0, 1, ..., 0, 1, 1]])"
      ]
     },
     "execution_count": 12,
     "metadata": {},
     "output_type": "execute_result"
    }
   ],
   "source": [
    "y_pred"
   ]
  },
  {
   "cell_type": "code",
   "execution_count": null,
   "id": "c2d2feac",
   "metadata": {},
   "outputs": [],
   "source": []
  }
 ],
 "metadata": {
  "kernelspec": {
   "display_name": "Python 3 (ipykernel)",
   "language": "python",
   "name": "python3"
  },
  "language_info": {
   "codemirror_mode": {
    "name": "ipython",
    "version": 3
   },
   "file_extension": ".py",
   "mimetype": "text/x-python",
   "name": "python",
   "nbconvert_exporter": "python",
   "pygments_lexer": "ipython3",
   "version": "3.11.5"
  }
 },
 "nbformat": 4,
 "nbformat_minor": 5
}
